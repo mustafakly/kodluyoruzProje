{
 "cells": [
  {
   "cell_type": "code",
   "execution_count": 17,
   "id": "e446cde3",
   "metadata": {},
   "outputs": [
    {
     "name": "stdout",
     "output_type": "stream",
     "text": [
      "[1, 'a', 'cat', 2, 3, 'dog', 4, 5]\n"
     ]
    }
   ],
   "source": [
    "l = [[1, 'a', ['cat'], 2], [[[3]], 'dog'], 4, 5]\n",
    "l1 = []\n",
    "\n",
    "def flatten(l):\n",
    "\n",
    "    for i in l:\n",
    "        if isinstance(i, list):\n",
    "            flatten(i)\n",
    "        else:\n",
    "            l1.append(i)\n",
    "\n",
    "flatten(l)\n",
    "print(l1)"
   ]
  },
  {
   "cell_type": "code",
   "execution_count": 25,
   "id": "5efa472e",
   "metadata": {},
   "outputs": [
    {
     "name": "stdout",
     "output_type": "stream",
     "text": [
      "[[7, 6, 5], [4, 3], [2, 1]]\n"
     ]
    }
   ],
   "source": [
    "l = [[1, 2], [3, 4], [5, 6, 7]]\n",
    "l1= []\n",
    "l.reverse()\n",
    "def dongu(l):\n",
    "    for i in l: \n",
    "        if isinstance(i,list):\n",
    "            i.reverse()\n",
    "            \n",
    "            \n",
    "dongu(l)\n",
    "print(l)"
   ]
  },
  {
   "cell_type": "code",
   "execution_count": null,
   "id": "328b9b57",
   "metadata": {},
   "outputs": [],
   "source": []
  }
 ],
 "metadata": {
  "kernelspec": {
   "display_name": "Python 3 (ipykernel)",
   "language": "python",
   "name": "python3"
  },
  "language_info": {
   "codemirror_mode": {
    "name": "ipython",
    "version": 3
   },
   "file_extension": ".py",
   "mimetype": "text/x-python",
   "name": "python",
   "nbconvert_exporter": "python",
   "pygments_lexer": "ipython3",
   "version": "3.10.9"
  }
 },
 "nbformat": 4,
 "nbformat_minor": 5
}
